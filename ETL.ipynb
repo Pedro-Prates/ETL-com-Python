{
 "cells": [
  {
   "cell_type": "markdown",
   "metadata": {},
   "source": [
    "## Vamos realizar o ETL de um relatório que o RH gerou para um setor de sua empresa\n",
    "\n",
    "Este relatório se trata da relação de colaboradores que realizaram, ou não, os treinamentos corporativos.\n",
    "Nosso objetivo é simplificar o relatório de modo que apenas os nomes daqueles que não realizaram o treinamento apareçam."
   ]
  },
  {
   "cell_type": "markdown",
   "metadata": {},
   "source": [
    "### Adquirindo as bibliotécas necessárias"
   ]
  },
  {
   "cell_type": "code",
   "execution_count": null,
   "metadata": {},
   "outputs": [],
   "source": [
    "%pip install pandas\n",
    "%pip install openpyxl\n",
    "%pip install numpy\n",
    "%pip install xlsxwriter"
   ]
  },
  {
   "cell_type": "markdown",
   "metadata": {},
   "source": [
    "### Extract (Extração)\n",
    "Vamos utilizar o relatório enviado pelo RH em excel\n",
    "treinamentos.xlsx"
   ]
  },
  {
   "cell_type": "code",
   "execution_count": 63,
   "metadata": {},
   "outputs": [
    {
     "data": {
      "text/html": [
       "<div>\n",
       "<style scoped>\n",
       "    .dataframe tbody tr th:only-of-type {\n",
       "        vertical-align: middle;\n",
       "    }\n",
       "\n",
       "    .dataframe tbody tr th {\n",
       "        vertical-align: top;\n",
       "    }\n",
       "\n",
       "    .dataframe thead th {\n",
       "        text-align: right;\n",
       "    }\n",
       "</style>\n",
       "<table border=\"1\" class=\"dataframe\">\n",
       "  <thead>\n",
       "    <tr style=\"text-align: right;\">\n",
       "      <th></th>\n",
       "      <th>ID</th>\n",
       "      <th>COLABORADOR</th>\n",
       "      <th>CARGO</th>\n",
       "      <th>DEPARTAMENTO</th>\n",
       "      <th>CURSO</th>\n",
       "      <th>STATUS</th>\n",
       "    </tr>\n",
       "  </thead>\n",
       "  <tbody>\n",
       "    <tr>\n",
       "      <th>0</th>\n",
       "      <td>1</td>\n",
       "      <td>Laura Barbosa</td>\n",
       "      <td>ANL DESENV SR</td>\n",
       "      <td>TI</td>\n",
       "      <td>Segurança da Informação</td>\n",
       "      <td>realizado</td>\n",
       "    </tr>\n",
       "    <tr>\n",
       "      <th>1</th>\n",
       "      <td>2</td>\n",
       "      <td>Gabriel Ferreira</td>\n",
       "      <td>ANL DESENV JR</td>\n",
       "      <td>Marketing</td>\n",
       "      <td>Segurança da Informação</td>\n",
       "      <td>realizado</td>\n",
       "    </tr>\n",
       "    <tr>\n",
       "      <th>2</th>\n",
       "      <td>3</td>\n",
       "      <td>Isabella Ribeiro</td>\n",
       "      <td>ANL DESENV PL</td>\n",
       "      <td>TI</td>\n",
       "      <td>Segurança da Informação</td>\n",
       "      <td>vencido</td>\n",
       "    </tr>\n",
       "    <tr>\n",
       "      <th>3</th>\n",
       "      <td>4</td>\n",
       "      <td>Marcos Almeida</td>\n",
       "      <td>ANL ADMINISTRATIVO</td>\n",
       "      <td>TI</td>\n",
       "      <td>Segurança da Informação</td>\n",
       "      <td>vencido</td>\n",
       "    </tr>\n",
       "    <tr>\n",
       "      <th>4</th>\n",
       "      <td>5</td>\n",
       "      <td>Beatriz Carvalho</td>\n",
       "      <td>ANL ADMINISTRATIVO</td>\n",
       "      <td>TI</td>\n",
       "      <td>Segurança da Informação</td>\n",
       "      <td>vencido</td>\n",
       "    </tr>\n",
       "  </tbody>\n",
       "</table>\n",
       "</div>"
      ],
      "text/plain": [
       "   ID       COLABORADOR               CARGO DEPARTAMENTO  \\\n",
       "0   1     Laura Barbosa       ANL DESENV SR           TI   \n",
       "1   2  Gabriel Ferreira       ANL DESENV JR    Marketing   \n",
       "2   3  Isabella Ribeiro       ANL DESENV PL           TI   \n",
       "3   4    Marcos Almeida  ANL ADMINISTRATIVO           TI   \n",
       "4   5  Beatriz Carvalho  ANL ADMINISTRATIVO           TI   \n",
       "\n",
       "                     CURSO     STATUS  \n",
       "0  Segurança da Informação  realizado  \n",
       "1  Segurança da Informação  realizado  \n",
       "2  Segurança da Informação    vencido  \n",
       "3  Segurança da Informação    vencido  \n",
       "4  Segurança da Informação    vencido  "
      ]
     },
     "execution_count": 63,
     "metadata": {},
     "output_type": "execute_result"
    }
   ],
   "source": [
    "import pandas as pd\n",
    "import numpy as np\n",
    "import xlsxwriter\n",
    "\n",
    "# aqui usamos o pandas para realziar a leitura do excel\n",
    "df = pd.read_excel('treinamentos.xlsx')\n",
    "\n",
    "# mostrar as 5 primeiras linhas para garantir que o pandas está lendo o excel \n",
    "df.head()"
   ]
  },
  {
   "cell_type": "markdown",
   "metadata": {},
   "source": [
    "### Transform (Transformação)\n",
    "\n",
    "Precisamos apenas a informação das pessoas que estão com o curso vencido.\n",
    "Para isso vamos aplicar um filtro na coluna status"
   ]
  },
  {
   "cell_type": "code",
   "execution_count": 64,
   "metadata": {},
   "outputs": [
    {
     "name": "stdout",
     "output_type": "stream",
     "text": [
      "      ID       COLABORADOR DEPARTAMENTO   STATUS\n",
      "2    3.0  Isabella Ribeiro           TI  vencido\n",
      "3    4.0    Marcos Almeida           TI  vencido\n",
      "4    5.0  Beatriz Carvalho           TI  vencido\n",
      "11  12.0    Matheus Castro           TI  vencido\n",
      "13  14.0   Rafaela Miranda           TI  vencido\n",
      "17  18.0      Raquel Costa           TI  vencido\n",
      "20  21.0    Maria da Silva           TI  vencido\n",
      "23  24.0       Pedro Gomes           TI  vencido\n",
      "26  27.0   Sofia Rodrigues           TI  vencido\n",
      "28  29.0      Pedro Prates           TI  vencido\n",
      "31  32.0       Sofia Costa           TI  vencido\n",
      "      ID      COLABORADOR DEPARTAMENTO   STATUS\n",
      "5    6.0  Lucas Gonçalves    Marketing  vencido\n",
      "12  13.0   Mariana Santos    Marketing  vencido\n",
      "33  34.0      Pedro sousa    Marketing  vencido\n"
     ]
    }
   ],
   "source": [
    "# definindo quais colunas vamos utilizar para realizar o filtro.\n",
    "#\n",
    "columns = ['ID', 'COLABORADOR', 'DEPARTAMENTO', 'STATUS']\n",
    "\n",
    "# filtrando departamentos.\n",
    "#\n",
    "departamento_TI = df[columns].where(df['DEPARTAMENTO'] == 'TI')\n",
    "departamento_Marketing = df[columns]. where(df['DEPARTAMENTO'] == 'Marketing')\n",
    "\n",
    "# filtrando por status 'vencidos'.\n",
    "#\n",
    "vencidos_TI = departamento_TI[columns].where(departamento_TI['STATUS'] == 'vencido')\n",
    "vencidos_Marketing = departamento_Marketing[columns].where(departamento_Marketing['STATUS'] == 'vencido')\n",
    "\n",
    "# removendo as linas NaN e salvando na variável que vamos gerar um novo excel.\n",
    "#\n",
    "vencidos_TI = vencidos_TI.dropna()\n",
    "vencidos_Marketing = vencidos_Marketing.dropna()\n",
    "\n",
    "# verificando se os filtros foram realizados com sucesso.\n",
    "#\n",
    "print(vencidos_TI)\n",
    "print(vencidos_Marketing)"
   ]
  },
  {
   "cell_type": "markdown",
   "metadata": {},
   "source": [
    "### Load (Carregamento)\n",
    "Aqui salvamos outra planilha para encaminhar "
   ]
  },
  {
   "cell_type": "code",
   "execution_count": 65,
   "metadata": {},
   "outputs": [
    {
     "name": "stdout",
     "output_type": "stream",
     "text": [
      "Planilhas geradas com sucesso!\n"
     ]
    }
   ],
   "source": [
    "# salvar cada filtra em uma planilha separada\n",
    "vencidos_TI.to_excel('Vencidos_TI.xlsx')\n",
    "vencidos_Marketing.to_excel('vencidos_Marketing.xlsx')\n",
    "\n",
    "print(\"Planilhas geradas com sucesso!\")"
   ]
  },
  {
   "cell_type": "code",
   "execution_count": 66,
   "metadata": {},
   "outputs": [
    {
     "name": "stdout",
     "output_type": "stream",
     "text": [
      "Planilha gerada com sucesso! O RH agradece\n"
     ]
    }
   ],
   "source": [
    "# caso o RH queira manter um controle melhor vamos salvar em uma única planilha para simplificar consultas futuras\n",
    "geral = pd.ExcelWriter('Controle_Geral.xlsx', engine='xlsxwriter')\n",
    "vencidos_Marketing.to_excel(geral, sheet_name='Marketing')\n",
    "vencidos_TI.to_excel(geral, sheet_name='TI')\n",
    "\n",
    "geral.close()\n",
    "\n",
    "print(\"Planilha gerada com sucesso! O RH agradece\")"
   ]
  }
 ],
 "metadata": {
  "kernelspec": {
   "display_name": "Python 3",
   "language": "python",
   "name": "python3"
  },
  "language_info": {
   "codemirror_mode": {
    "name": "ipython",
    "version": 3
   },
   "file_extension": ".py",
   "mimetype": "text/x-python",
   "name": "python",
   "nbconvert_exporter": "python",
   "pygments_lexer": "ipython3",
   "version": "3.11.4"
  }
 },
 "nbformat": 4,
 "nbformat_minor": 2
}
